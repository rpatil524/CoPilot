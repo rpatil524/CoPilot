{
 "cells": [
  {
   "cell_type": "code",
   "execution_count": 1,
   "metadata": {},
   "outputs": [],
   "source": [
    "import os\n",
    "from pyTigerGraph import TigerGraphConnection\n",
    "from dotenv import load_dotenv\n",
    "\n",
    "load_dotenv()\n",
    "# We first create a connection to the database\n",
    "host = os.environ[\"HOST\"]\n",
    "username = os.getenv(\"USERNAME\", \"tigergraph\")\n",
    "password = os.getenv(\"PASS\", \"tigergraph\")\n",
    "conn = TigerGraphConnection(\n",
    "    host=host,\n",
    "    username=username,\n",
    "    password=password,\n",
    ")\n",
    "# conn.getToken()\n",
    "\n",
    "# And then add CoPilot's address to the connection. This address\n",
    "# is the host's address where the CoPilot container is running.\n",
    "# conn.ai.configureCoPilotHost(\"http://localhost:8000\")"
   ]
  },
  {
   "cell_type": "code",
   "execution_count": null,
   "metadata": {},
   "outputs": [],
   "source": [
    "conn.gsql(\"\"\"CREATE GRAPH SupportAIDocIngestion()\"\"\")"
   ]
  },
  {
   "cell_type": "code",
   "execution_count": 2,
   "metadata": {},
   "outputs": [
    {
     "data": {
      "text/plain": [
       "'l11vnumq77c33f0aa2ss5m0th5hqdj14'"
      ]
     },
     "execution_count": 2,
     "metadata": {},
     "output_type": "execute_result"
    }
   ],
   "source": [
    "conn.graphname = \"SupportAIDocIngestion\"\n",
    "conn.getToken()"
   ]
  },
  {
   "cell_type": "code",
   "execution_count": 3,
   "metadata": {},
   "outputs": [],
   "source": [
    "conn.ai.configureCoPilotHost(\"http://localhost:8000\")\n",
    "# Create Graph Schema\n",
    "# Install GSQL queries\n",
    "# conn.ai.initializeSupportAI()"
   ]
  },
  {
   "cell_type": "code",
   "execution_count": null,
   "metadata": {},
   "outputs": [],
   "source": [
    "access = os.environ[\"AWS_ACCESS_KEY_ID\"]\n",
    "sec = os.environ[\"AWS_SECRET_ACCESS_KEY\"]\n",
    "res = conn.ai.createDocumentIngest(\n",
    "    data_source=\"s3\",\n",
    "    data_source_config={\"aws_access_key\": access, \"aws_secret_key\": sec},\n",
    "    loader_config={\"doc_id_field\": \"url\", \"content_field\": \"content\"},\n",
    "    file_format=\"json\",\n",
    ")"
   ]
  },
  {
   "cell_type": "code",
   "execution_count": null,
   "metadata": {},
   "outputs": [],
   "source": [
    "conn.ai.runDocumentIngest(res[\"load_job_id\"], res[\"data_source_id\"], \"s3://tg-documentation/pytg_current/pytg_current.jsonl\")"
   ]
  },
  {
   "cell_type": "code",
   "execution_count": 4,
   "metadata": {},
   "outputs": [
    {
     "data": {
      "text/plain": [
       "{'status': 'submitted'}"
      ]
     },
     "execution_count": 4,
     "metadata": {},
     "output_type": "execute_result"
    }
   ],
   "source": [
    "conn.ai.forceConsistencyUpdate(method=\"supportai\")"
   ]
  },
  {
   "cell_type": "code",
   "execution_count": null,
   "metadata": {},
   "outputs": [],
   "source": [
    "query = \"How do I get a count of vertices in Python?\""
   ]
  },
  {
   "cell_type": "markdown",
   "metadata": {},
   "source": [
    "### HNSW Index Overlap in Graph"
   ]
  },
  {
   "cell_type": "code",
   "execution_count": null,
   "metadata": {},
   "outputs": [],
   "source": [
    "conn.ai.searchDocuments(query,\n",
    "                        method=\"hnswoverlap\",\n",
    "                        method_parameters = {\"indices\": [\"Document\", \"DocumentChunk\", \"Entity\", \"Relationship\"],\n",
    "                                             \"top_k\": 2,\n",
    "                                             \"num_hops\": 2,\n",
    "                                             \"num_seen_min\": 2})"
   ]
  },
  {
   "cell_type": "markdown",
   "metadata": {},
   "source": [
    "### Document Chunk Vector Search"
   ]
  },
  {
   "cell_type": "code",
   "execution_count": null,
   "metadata": {},
   "outputs": [],
   "source": [
    "conn.ai.searchDocuments(query,\n",
    "                        method=\"vdb\",\n",
    "                        method_parameters={\"index\": \"DocumentChunk\",\n",
    "                                           \"top_k\": 5,\n",
    "                                           \"withHyDE\": False})"
   ]
  },
  {
   "cell_type": "markdown",
   "metadata": {},
   "source": [
    "### Sibling Document Chunk Vector Search"
   ]
  },
  {
   "cell_type": "code",
   "execution_count": null,
   "metadata": {},
   "outputs": [],
   "source": [
    "conn.ai.searchDocuments(query,\n",
    "                        method=\"sibling\",\n",
    "                        method_parameters={\"index\": \"DocumentChunk\",\n",
    "                                           \"top_k\": 5,\n",
    "                                           \"lookahead\": 3,\n",
    "                                           \"lookback\": 3,\n",
    "                                           \"withHyDE\": False})"
   ]
  },
  {
   "cell_type": "markdown",
   "metadata": {},
   "source": [
    "## Comparing LLM Generated Responses\n",
    "\n",
    "TigerGraph CoPilot provides a way to generate the response to the user's query using a LLM, based on the search results from the methods above. You can compare the responses generated by the LLM for each of the search methods to see which one is the most relevant to the user's query. In this example, we can see that the HNSW Overlap method generates the most relevant response to the user's query. While none of the responses were wrong, the HNSW Overlap method generated the most relevant response to the user's query, by suggesting to use the `getVertexCount()` function to get the number of vertices in the graph."
   ]
  },
  {
   "cell_type": "code",
   "execution_count": null,
   "metadata": {},
   "outputs": [],
   "source": [
    "resp = conn.ai.answerQuestion(query,\n",
    "                        method=\"hnswoverlap\",\n",
    "                        method_parameters = {\"indices\": [\"Document\", \"DocumentChunk\", \"Entity\", \"Relationship\"],\n",
    "                                             \"top_k\": 2,\n",
    "                                             \"num_hops\": 2,\n",
    "                                             \"num_seen_min\": 2})"
   ]
  },
  {
   "cell_type": "code",
   "execution_count": null,
   "metadata": {},
   "outputs": [],
   "source": [
    "print(resp[\"response\"])"
   ]
  },
  {
   "cell_type": "code",
   "execution_count": null,
   "metadata": {},
   "outputs": [],
   "source": [
    "print(resp[\"retrieved\"])"
   ]
  },
  {
   "cell_type": "code",
   "execution_count": null,
   "metadata": {},
   "outputs": [],
   "source": [
    "resp = conn.ai.answerQuestion(query,\n",
    "                        method=\"vdb\",\n",
    "                        method_parameters={\"index\": \"DocumentChunk\",\n",
    "                                           \"top_k\": 5,\n",
    "                                           \"withHyDE\": False})"
   ]
  },
  {
   "cell_type": "code",
   "execution_count": null,
   "metadata": {},
   "outputs": [],
   "source": [
    "print(resp[\"response\"])"
   ]
  },
  {
   "cell_type": "code",
   "execution_count": null,
   "metadata": {},
   "outputs": [],
   "source": [
    "print(resp[\"retrieved\"])"
   ]
  },
  {
   "cell_type": "code",
   "execution_count": null,
   "metadata": {},
   "outputs": [],
   "source": [
    "resp = conn.ai.answerQuestion(query,\n",
    "                        method=\"sibling\",\n",
    "                        method_parameters={\"index\": \"DocumentChunk\",\n",
    "                                           \"top_k\": 5,\n",
    "                                           \"lookahead\": 3,\n",
    "                                           \"lookback\": 3,\n",
    "                                           \"withHyDE\": False})"
   ]
  },
  {
   "cell_type": "code",
   "execution_count": null,
   "metadata": {},
   "outputs": [],
   "source": [
    "print(resp[\"response\"])"
   ]
  },
  {
   "cell_type": "code",
   "execution_count": null,
   "metadata": {},
   "outputs": [],
   "source": [
    "print(resp[\"retrieved\"])"
   ]
  },
  {
   "cell_type": "code",
   "execution_count": null,
   "metadata": {},
   "outputs": [],
   "source": []
  }
 ],
 "metadata": {
  "kernelspec": {
   "display_name": "pytg_dev",
   "language": "python",
   "name": "python3"
  },
  "language_info": {
   "codemirror_mode": {
    "name": "ipython",
    "version": 3
   },
   "file_extension": ".py",
   "mimetype": "text/x-python",
   "name": "python",
   "nbconvert_exporter": "python",
   "pygments_lexer": "ipython3",
   "version": "3.11.9"
  }
 },
 "nbformat": 4,
 "nbformat_minor": 2
}
